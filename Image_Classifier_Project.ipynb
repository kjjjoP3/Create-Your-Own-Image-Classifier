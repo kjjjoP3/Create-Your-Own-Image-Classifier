{
 "cells": [
  {
   "cell_type": "markdown",
   "metadata": {
    "id": "38tDaSui-Vrs"
   },
   "source": [
    "## Prepare the workspace"
   ]
  },
  {
   "cell_type": "code",
   "execution_count": null,
   "metadata": {
    "id": "Wa2IAGn7-Vrw"
   },
   "outputs": [],
   "source": [
    "import os\n",
    "\n",
    "# Cập nhật biến môi trường PATH với các đường dẫn mới\n",
    "os.environ['PATH'] += \":/root/.local/bin\"\n",
    "os.environ['PATH'] += \":/opt/conda/lib/python3.6/site-packages\""
   ]
  },
  {
   "cell_type": "code",
   "execution_count": null,
   "metadata": {
    "id": "Xj4RxZKg-Vry"
   },
   "outputs": [],
   "source": [
    "# !python -m pip install torch==1.11.0\n",
    "!pip install --upgrade pip\n",
    "!pip install torchvision==0.12.0\n",
    "!pip3 install numpy --pre torch torchvision torchaudio --force-reinstall --index-url https://download.pytorch.org/whl/nightly/cu117"
   ]
  },
  {
   "cell_type": "code",
   "execution_count": null,
   "metadata": {
    "colab": {
     "base_uri": "https://localhost:8080/"
    },
    "id": "gA1tJ70J-Vrz",
    "outputId": "915634c9-fbdd-49ce-b437-6db5d660ed52"
   },
   "outputs": [],
   "source": [
    "# Check PyTorch version and CUDA availability if GPU is enabled.\n",
    "import torch\n",
    "print(f\"PyTorch version: {torch.__version__}\")\n",
    "print(f\"CUDA available: {torch.cuda.is_available()}\")  # Returns True if GPU is enabled"
   ]
  },
  {
   "cell_type": "markdown",
   "metadata": {
    "id": "xVHramYH-Vr0"
   },
   "source": [
    "# Developing an AI application\n",
    "\n",
    "Going forward, AI algorithms will be incorporated into more and more everyday applications. For example, you might want to include an image classifier in a smart phone app. To do this, you'd use a deep learning model trained on hundreds of thousands of images as part of the overall application architecture. A large part of software development in the future will be using these types of models as common parts of applications.\n",
    "\n",
    "In this project, you'll train an image classifier to recognize different species of flowers. You can imagine using something like this in a phone app that tells you the name of the flower your camera is looking at. In practice you'd train this classifier, then export it for use in your application. We'll be using [this dataset](http://www.robots.ox.ac.uk/~vgg/data/flowers/102/index.html) of 102 flower categories, you can see a few examples below.\n",
    "\n",
    "<img src='assets/Flowers.png' width=500px>\n",
    "\n",
    "The project is broken down into multiple steps:\n",
    "\n",
    "* Load and preprocess the image dataset\n",
    "* Train the image classifier on your dataset\n",
    "* Use the trained classifier to predict image content\n",
    "\n",
    "We'll lead you through each part which you'll implement in Python.\n",
    "\n",
    "When you've completed this project, you'll have an application that can be trained on any set of labeled images. Here your network will be learning about flowers and end up as a command line application. But, what you do with your new skills depends on your imagination and effort in building a dataset. For example, imagine an app where you take a picture of a car, it tells you what the make and model is, then looks up information about it. Go build your own dataset and make something new.\n",
    "\n",
    "First up is importing the packages you'll need. It's good practice to keep all the imports at the beginning of your code. As you work through this notebook and find you need to import a package, make sure to add the import up here."
   ]
  },
  {
   "cell_type": "code",
   "execution_count": null,
   "metadata": {
    "id": "h7ACt37S-Vr1"
   },
   "outputs": [],
   "source": [
    "# Imports here\n",
    "import torch\n",
    "import torch.nn as nn\n",
    "from torchvision import models\n",
    "from collections import OrderedDict\n",
    "import argparse\n",
    "from torchvision import transforms\n",
    "from PIL import Image\n",
    "import json\n",
    "from model import create_model\n",
    "import argparse\n",
    "import os\n",
    "import torch\n",
    "from torch import nn, optim\n",
    "from torchvision import datasets, transforms\n",
    "from model import create_model"
   ]
  },
  {
   "cell_type": "markdown",
   "metadata": {
    "id": "U-dcqXr_-Vr1"
   },
   "source": [
    "## Load the data\n",
    "\n",
    "You will utilize torchvision to load the dataset. For detailed guidance, refer to the ([official documentation](http://pytorch.org/docs/0.3.0/torchvision/index.html)). The dataset should be present in the same directory as this notebook. If it's missing, you can [download it from here](https://s3.amazonaws.com/content.udacity-data.com/nd089/flower_data.tar.gz)."
   ]
  },
  {
   "cell_type": "markdown",
   "metadata": {
    "id": "y4bsluNc-Vr1"
   },
   "source": [
    "If the flowers/ dataset is not located in the current directory **/workspace/home/aipnd-project/**, you can retrieve it by running the following commands:\n",
    "\n",
    "```bash\n",
    "!wget 'https://s3.amazonaws.com/content.udacity-data.com/nd089/flower_data.tar.gz'\n",
    "!rm -rf flowers\n",
    "!mkdir flowers && tar -xzf flower_data.tar.gz -C flowers\n",
    "```\n"
   ]
  },
  {
   "cell_type": "code",
   "execution_count": 19,
   "metadata": {
    "colab": {
     "base_uri": "https://localhost:8080/"
    },
    "id": "yppZytgo_Xr5",
    "outputId": "800e71c2-bbd5-4e62-c998-3a3171bbe3f5"
   },
   "outputs": [],
   "source": [
    "!wget 'https://s3.amazonaws.com/content.udacity-data.com/nd089/flower_data.tar.gz'\n",
    "!rm -rf flowers\n",
    "!mkdir flowers && tar -xzf flower_data.tar.gz -C flowers"
   ]
  },
  {
   "cell_type": "markdown",
   "metadata": {
    "id": "P8cM26n2-Vr2"
   },
   "source": [
    "## Data Description\n",
    "The dataset is split into three parts, training, validation, and testing. For the training, you'll want to apply transformations such as random scaling, cropping, and flipping. This will help the network generalize leading to better performance. You'll also need to make sure the input data is resized to 224x224 pixels as required by the pre-trained networks.\n",
    "\n",
    "The validation and testing sets are used to measure the model's performance on data it hasn't seen yet. For this you don't want any scaling or rotation transformations, but you'll need to resize then crop the images to the appropriate size.\n",
    "\n",
    "The pre-trained networks you'll use were trained on the ImageNet dataset where each color channel was normalized separately. For all three sets you'll need to normalize the means and standard deviations of the images to what the network expects. For the means, it's `[0.485, 0.456, 0.406]` and for the standard deviations `[0.229, 0.224, 0.225]`, calculated from the ImageNet images.  These values will shift each color channel to be centered at 0 and range from -1 to 1.\n"
   ]
  },
  {
   "cell_type": "code",
   "execution_count": 20,
   "metadata": {
    "id": "ytLS83eP-Vr2"
   },
   "outputs": [],
   "source": [
    "data_dir = 'flowers'\n",
    "train_dir = data_dir + '/train'\n",
    "valid_dir = data_dir + '/valid'\n",
    "test_dir = data_dir + '/test'"
   ]
  },
  {
   "cell_type": "code",
   "execution_count": null,
   "metadata": {
    "id": "nk4mfS9a-Vr2"
   },
   "outputs": [],
   "source": [
    "# Define image transformations for training, validation, and testing datasets\n",
    "train_transform = transforms.Compose([\n",
    "    transforms.RandomRotation(30),\n",
    "    transforms.RandomResizedCrop(224),\n",
    "    transforms.RandomHorizontalFlip(),\n",
    "    transforms.ToTensor(),\n",
    "    transforms.Normalize(mean=[0.5, 0.5, 0.5], std=[0.5, 0.5, 0.5])\n",
    "])\n",
    "\n",
    "test_transform = transforms.Compose([\n",
    "    transforms.Resize(255),\n",
    "    transforms.CenterCrop(224),\n",
    "    transforms.ToTensor(),\n",
    "    transforms.Normalize(mean=[0.5, 0.5, 0.5], std=[0.5, 0.5, 0.5])\n",
    "])\n",
    "\n",
    "valid_transform = transforms.Compose([\n",
    "    transforms.Resize(255),\n",
    "    transforms.CenterCrop(224),\n",
    "    transforms.ToTensor(),\n",
    "    transforms.Normalize(mean=[0.5, 0.5, 0.5], std=[0.5, 0.5, 0.5])\n",
    "])\n",
    "\n",
    "# Load datasets with transformations applied using ImageFolder\n",
    "train_dataset = datasets.ImageFolder(root=train_dir, transform=train_transform)\n",
    "test_dataset = datasets.ImageFolder(root=test_dir, transform=test_transform)\n",
    "valid_dataset = datasets.ImageFolder(root=valid_dir, transform=valid_transform)\n",
    "\n",
    "# Define DataLoaders for each dataset, with batching and shuffling enabled\n",
    "train_loader = torch.utils.data.DataLoader(dataset=train_dataset, batch_size=64, shuffle=True)\n",
    "test_loader = torch.utils.data.DataLoader(dataset=test_dataset, batch_size=64, shuffle=True)\n",
    "valid_loader = torch.utils.data.DataLoader(dataset=valid_dataset, batch_size=64, shuffle=True)\n"
   ]
  },
  {
   "cell_type": "markdown",
   "metadata": {
    "id": "xvSi_yi7kDrm"
   },
   "source": []
  },
  {
   "cell_type": "code",
   "execution_count": null,
   "metadata": {
    "colab": {
     "base_uri": "https://localhost:8080/",
     "height": 469
    },
    "id": "4B5FmBCYLH-h",
    "outputId": "20e7cca3-27a7-4d4e-af24-18d128a84665"
   },
   "outputs": [],
   "source": [
    "# Get one batch from the test loader\n",
    "batch_iterator = iter(test_loader)\n",
    "batch_images, batch_labels = next(batch_iterator)\n",
    "\n",
    "# Choose the first image and its label from the batch\n",
    "first_image = batch_images[0]\n",
    "first_label = batch_labels[0]\n",
    "\n",
    "# Convert the image to a NumPy array for visualization\n",
    "image_array = first_image.numpy()\n",
    "\n",
    "# Adjust the image dimensions for proper display\n",
    "adjusted_image = np.transpose(image_array, (1, 2, 0))\n",
    "\n",
    "# Display the image with its label in the plot title\n",
    "plt.imshow(adjusted_image)\n",
    "plt.title(f\"Class: {first_label.item()}\")\n",
    "plt.show()\n"
   ]
  },
  {
   "cell_type": "markdown",
   "metadata": {
    "id": "axD9gxq_-Vr3"
   },
   "source": [
    "### Label mapping\n",
    "\n",
    "You'll also need to load in a mapping from category label to category name. You can find this in the file `cat_to_name.json`. It's a JSON object which you can read in with the [`json` module](https://docs.python.org/2/library/json.html). This will give you a dictionary mapping the integer encoded categories to the actual names of the flowers."
   ]
  },
  {
   "cell_type": "code",
   "execution_count": null,
   "metadata": {
    "id": "1pP1i7iP-Vr3"
   },
   "outputs": [],
   "source": [
    "import json\n",
    "\n",
    "with open('cat_to_name.json', 'r') as f:\n",
    "    cat_to_name = json.load(f)"
   ]
  },
  {
   "cell_type": "markdown",
   "metadata": {
    "id": "RIIFZ6YU-Vr3"
   },
   "source": [
    "# Building and training the classifier\n",
    "\n",
    "Now that the data is ready, it's time to build and train the classifier. As usual, you should use one of the pretrained models from `torchvision.models` to get the image features. Build and train a new feed-forward classifier using those features.\n",
    "\n",
    "We're going to leave this part up to you. Refer to [the rubric](https://review.udacity.com/#!/rubrics/1663/view) for guidance on successfully completing this section. Things you'll need to do:\n",
    "\n",
    "* Load a [pre-trained network](http://pytorch.org/docs/master/torchvision/models.html) (If you need a starting point, the VGG networks work great and are straightforward to use)\n",
    "* Define a new, untrained feed-forward network as a classifier, using ReLU activations and dropout\n",
    "* Train the classifier layers using backpropagation using the pre-trained network to get the features\n",
    "* Track the loss and accuracy on the validation set to determine the best hyperparameters\n",
    "\n",
    "We've left a cell open for you below, but use as many as you need. Our advice is to break the problem up into smaller parts you can run separately. Check that each part is doing what you expect, then move on to the next. You'll likely find that as you work through each part, you'll need to go back and modify your previous code. This is totally normal!\n",
    "\n",
    "When training make sure you're updating only the weights of the feed-forward network. You should be able to get the validation accuracy above 70% if you build everything right. Make sure to try different hyperparameters (learning rate, units in the classifier, epochs, etc) to find the best model. Save those hyperparameters to use as default values in the next part of the project.\n",
    "\n",
    "One last important tip if you're using the workspace to run your code: To avoid having your workspace disconnect during the long-running tasks in this notebook, please read in the earlier page in this lesson called Intro to\n",
    "GPU Workspaces about Keeping Your Session Active. You'll want to include code from the workspace_utils.py module.\n",
    "\n",
    "## Note for Workspace users:\n",
    "If your network is over 1 GB when saved as a checkpoint, there might be issues with saving backups in your workspace. Typically this happens with wide dense layers after the convolutional layers. If your saved checkpoint is larger than 1 GB (you can open a terminal and check with `ls -lh`), you should reduce the size of your hidden layers and train again."
   ]
  },
  {
   "cell_type": "code",
   "execution_count": null,
   "metadata": {
    "colab": {
     "base_uri": "https://localhost:8080/"
    },
    "id": "ipKKz68VkGWm",
    "outputId": "1ad355d9-858f-4373-e571-1cddcdc1b87b"
   },
   "outputs": [],
   "source": [
    "def build_model(backbone='vgg16'):\n",
    "\n",
    "    if backbone == 'vgg16':\n",
    "        model = models.vgg16(pretrained=True)\n",
    "    elif backbone == 'densenet121':\n",
    "        model = models.densenet121(pretrained=True)\n",
    "    else:\n",
    "        raise ValueError(\"Backbone model not supported\")\n",
    "\n",
    "    # Freeze the parameters of the pre-trained model\n",
    "    for param in model.parameters():\n",
    "        param.requires_grad = False\n",
    "\n",
    "    # Replace the classifier with a custom one\n",
    "    model.classifier = nn.Sequential(OrderedDict([\n",
    "        ('fc1', nn.Linear(25088, 2048)),\n",
    "        ('relu', nn.ReLU()),\n",
    "        ('dropout1', nn.Dropout(0.3)),\n",
    "        ('fc2', nn.Linear(2048, 256)),\n",
    "        ('dropout2', nn.Dropout(0.3)),\n",
    "        ('relu2', nn.ReLU()),\n",
    "        ('fc3', nn.Linear(256, 102)),\n",
    "        ('output', nn.LogSoftmax(dim=1))\n",
    "    ]))\n",
    "\n",
    "    return model\n",
    "\n",
    "# Set up the device (GPU if available)\n",
    "device = torch.device('cuda' if torch.cuda.is_available() else 'cpu')\n",
    "\n",
    "# Initialize the model and move it to the device\n",
    "model = build_model().to(device)\n",
    "\n",
    "# Define the loss function\n",
    "loss_fn = nn.NLLLoss()\n",
    "\n",
    "# Use Adam optimizer for the classifier parameters\n",
    "optimizer = optim.Adam(model.classifier.parameters(), lr=0.001)\n",
    "\n",
    "print(\"-----------< Model Summary >-----------\")\n",
    "print(model)\n",
    "print(\"--------------------------------------< Training Start >--------------------------------------\")\n",
    "\n",
    "# Define the training process\n",
    "epochs = 3\n",
    "steps = 0\n",
    "loss_accumulated = 0\n",
    "print_every = 10\n",
    "train_loss_history, val_loss_history = [], []\n",
    "\n",
    "for epoch in range(epochs):\n",
    "    for inputs, labels in trainloader:\n",
    "        steps += 1\n",
    "\n",
    "        # Move inputs and labels to the appropriate device\n",
    "        inputs, labels = inputs.to(device), labels.to(device)\n",
    "\n",
    "        # Zero the gradients\n",
    "        optimizer.zero_grad()\n",
    "\n",
    "        # Forward pass\n",
    "        output_probs = model(inputs)\n",
    "        loss = loss_fn(output_probs, labels)\n",
    "\n",
    "        # Backward pass\n",
    "        loss.backward()\n",
    "        optimizer.step()\n",
    "\n",
    "        loss_accumulated += loss.item()\n",
    "\n",
    "        if steps % print_every == 0:\n",
    "            val_loss = 0\n",
    "            accuracy = 0\n",
    "            model.eval()\n",
    "\n",
    "            with torch.no_grad():\n",
    "                for inputs, labels in validloader:\n",
    "                    inputs, labels = inputs.to(device), labels.to(device)\n",
    "                    output_probs = model(inputs)\n",
    "                    batch_loss = loss_fn(output_probs, labels)\n",
    "                    val_loss += batch_loss.item()\n",
    "\n",
    "                    # Calculate accuracy\n",
    "                    predicted_probs = torch.exp(output_probs)\n",
    "                    top_prob, top_class = predicted_probs.topk(1, dim=1)\n",
    "                    correct = top_class == labels.view(*top_class.shape)\n",
    "                    accuracy += torch.mean(correct.type(torch.FloatTensor)).item()\n",
    "\n",
    "            train_loss_history.append(loss_accumulated / print_every)\n",
    "            val_loss_history.append(val_loss / len(validloader))\n",
    "            print(f\"Epoch: {epoch+1}/{epochs}.. \"\n",
    "                  f\"Train Loss: {loss_accumulated/print_every:.3f}.. \"\n",
    "                  f\"Val Loss: {val_loss/len(validloader):.3f}.. \"\n",
    "                  f\"Val Accuracy: {accuracy/len(validloader):.3f}\")\n",
    "            loss_accumulated = 0\n",
    "            model.train()\n",
    "\n",
    "print(\"--------------------------------------< Training Finished >--------------------------------------\")\n"
   ]
  },
  {
   "cell_type": "code",
   "execution_count": null,
   "metadata": {
    "colab": {
     "base_uri": "https://localhost:8080/",
     "height": 447
    },
    "id": "ZKogphW7shuV",
    "outputId": "e3f6c6b4-a28b-484e-9280-587d20f2e87d"
   },
   "outputs": [],
   "source": [
    "param_range = np.arange(1, 10)\n",
    "\n",
    "# Plot the training and validation losses\n",
    "plt.plot(train_loss_history, label='Training Loss')\n",
    "plt.plot(val_loss_history, label='Validation Loss')\n",
    "\n",
    "# Customize the legend to improve the plot presentation\n",
    "plt.legend(loc='upper right', frameon=False)\n",
    "\n",
    "plt.show()\n"
   ]
  },
  {
   "cell_type": "markdown",
   "metadata": {
    "id": "JVsHDvuX-Vr5"
   },
   "source": [
    "## Testing your network\n",
    "\n",
    "It's good practice to test your trained network on test data, images the network has never seen either in training or validation. This will give you a good estimate for the model's performance on completely new images. Run the test images through the network and measure the accuracy, the same way you did validation. You should be able to reach around 70% accuracy on the test set if the model has been trained well."
   ]
  },
  {
   "cell_type": "code",
   "execution_count": null,
   "metadata": {
    "colab": {
     "base_uri": "https://localhost:8080/"
    },
    "id": "GjLsUuRZ-Vr5",
    "outputId": "6bedd8b9-3fbf-4061-bb1d-ba72ef139c65"
   },
   "outputs": [
    {
     "name": "stdout",
     "output_type": "stream",
     "text": [
      "Test Loss: 0.618..  Test Accuracy: 0.826\n"
     ]
    }
   ],
   "source": [
    "# Evaluate the model on the test set\n",
    "test_loss = 0\n",
    "total_accuracy = 0\n",
    "model.eval()  # Switch to evaluation mode\n",
    "with torch.no_grad():  # Disable gradient calculation for testing\n",
    "    for inputs, labels in testloader:\n",
    "        # Move data to the device (GPU or CPU)\n",
    "        inputs, labels = inputs.to(device), labels.to(device)\n",
    "\n",
    "        # Forward pass through the model\n",
    "        predictions = model(inputs)\n",
    "        loss = criterion(predictions, labels)\n",
    "\n",
    "        # Accumulate the loss\n",
    "        test_loss += loss.item()\n",
    "\n",
    "        # Compute accuracy\n",
    "        probabilities = torch.exp(predictions)\n",
    "        top_probability, predicted_class = probabilities.topk(1, dim=1)\n",
    "        correct = predicted_class == labels.view(*predicted_class.shape)\n",
    "        total_accuracy += torch.mean(correct.type(torch.FloatTensor)).item()\n",
    "\n",
    "# Print test results\n",
    "print(f\"Test Loss: {test_loss/len(testloader):.3f}.. \", \n",
    "      f\"Test Accuracy: {total_accuracy/len(testloader):.3f}\")\n"
   ]
  },
  {
   "cell_type": "markdown",
   "metadata": {
    "id": "RYg1IRdh-Vr5"
   },
   "source": [
    "## Save the checkpoint\n",
    "\n",
    "Now that your network is trained, save the model so you can load it later for making predictions. You probably want to save other things such as the mapping of classes to indices which you get from one of the image datasets: `image_datasets['train'].class_to_idx`. You can attach this to the model as an attribute which makes inference easier later on.\n",
    "\n",
    "```model.class_to_idx = image_datasets['train'].class_to_idx```\n",
    "\n",
    "Remember that you'll want to completely rebuild the model later so you can use it for inference. Make sure to include any information you need in the checkpoint. If you want to load the model and keep training, you'll want to save the number of epochs as well as the optimizer state, `optimizer.state_dict`. You'll likely want to use this trained model in the next part of the project, so best to save it now."
   ]
  },
  {
   "cell_type": "code",
   "execution_count": null,
   "metadata": {
    "id": "HkYK2Bz2-Vr5"
   },
   "outputs": [],
   "source": [
    "# Save the model checkpoint\n",
    "checkpoint_path = 'model_checkpoint.pth'\n",
    "\n",
    "# Store model-related details in a dictionary\n",
    "checkpoint_data = {\n",
    "    'input_dimensions': 25088,\n",
    "    'output_classes': 102,\n",
    "    'model_architecture': 'vgg16',\n",
    "    'learning_rate': 0.001,\n",
    "    'training_epochs': epochs,\n",
    "    'optimizer_state': optimizer.state_dict(),\n",
    "    'model_state': model.state_dict(),\n",
    "    'class_index_mapping': train_data.class_to_idx\n",
    "}\n",
    "\n",
    "# Save the checkpoint\n",
    "torch.save(checkpoint_data, checkpoint_path)\n"
   ]
  },
  {
   "cell_type": "markdown",
   "metadata": {
    "id": "_BcNc9wc-Vr5"
   },
   "source": [
    "## Loading the checkpoint\n",
    "\n",
    "At this point it's good to write a function that can load a checkpoint and rebuild the model. That way you can come back to this project and keep working on it without having to retrain the network."
   ]
  },
  {
   "cell_type": "code",
   "execution_count": null,
   "metadata": {
    "colab": {
     "base_uri": "https://localhost:8080/"
    },
    "id": "DJLXn7YV-Vr5",
    "outputId": "9444714c-444a-4aad-9cfa-39497b4ef960"
   },
   "outputs": [],
   "source": [
    "# Load the checkpoint from the saved file\n",
    "loaded_checkpoint = torch.load(checkpoint_path)\n",
    "\n",
    "# Initialize the model with the same architecture\n",
    "loaded_model = Net()\n",
    "\n",
    "# Map the class indices from the checkpoint to the model\n",
    "loaded_model.class_to_idx = loaded_checkpoint['class_index_mapping']\n",
    "\n",
    "# Load the model's state dictionary to restore the trained parameters\n",
    "loaded_model.load_state_dict(loaded_checkpoint['model_state'])\n",
    "\n",
    "# Print the model structure\n",
    "print(loaded_model)\n"
   ]
  },
  {
   "cell_type": "markdown",
   "metadata": {
    "id": "dKpFEkXQ-Vr6"
   },
   "source": [
    "# Inference for classification\n",
    "\n",
    "Now you'll write a function to use a trained network for inference. That is, you'll pass an image into the network and predict the class of the flower in the image. Write a function called `predict` that takes an image and a model, then returns the top $K$ most likely classes along with the probabilities. It should look like\n",
    "\n",
    "```python\n",
    "probs, classes = predict(image_path, model)\n",
    "print(probs)\n",
    "print(classes)\n",
    "> [ 0.01558163  0.01541934  0.01452626  0.01443549  0.01407339]\n",
    "> ['70', '3', '45', '62', '55']\n",
    "```\n",
    "\n",
    "First you'll need to handle processing the input image such that it can be used in your network.\n",
    "\n",
    "## Image Preprocessing\n",
    "\n",
    "You'll want to use `PIL` to load the image ([documentation](https://pillow.readthedocs.io/en/latest/reference/Image.html)). It's best to write a function that preprocesses the image so it can be used as input for the model. This function should process the images in the same manner used for training.\n",
    "\n",
    "First, resize the images where the shortest side is 256 pixels, keeping the aspect ratio. This can be done with the [`thumbnail`](http://pillow.readthedocs.io/en/3.1.x/reference/Image.html#PIL.Image.Image.thumbnail) or [`resize`](http://pillow.readthedocs.io/en/3.1.x/reference/Image.html#PIL.Image.Image.thumbnail) methods. Then you'll need to crop out the center 224x224 portion of the image.\n",
    "\n",
    "Color channels of images are typically encoded as integers 0-255, but the model expected floats 0-1. You'll need to convert the values. It's easiest with a Numpy array, which you can get from a PIL image like so `np_image = np.array(pil_image)`.\n",
    "\n",
    "As before, the network expects the images to be normalized in a specific way. For the means, it's `[0.485, 0.456, 0.406]` and for the standard deviations `[0.229, 0.224, 0.225]`. You'll want to subtract the means from each color channel, then divide by the standard deviation.\n",
    "\n",
    "And finally, PyTorch expects the color channel to be the first dimension but it's the third dimension in the PIL image and Numpy array. You can reorder dimensions using [`ndarray.transpose`](https://docs.scipy.org/doc/numpy-1.13.0/reference/generated/numpy.ndarray.transpose.html). The color channel needs to be first and retain the order of the other two dimensions."
   ]
  },
  {
   "cell_type": "code",
   "execution_count": null,
   "metadata": {
    "id": "jRll6PZe-Vr6"
   },
   "outputs": [],
   "source": [
    "def process_image(image):\n",
    "    ''' Scales, crops, and normalizes a PIL image for a PyTorch model,\n",
    "        returns an Numpy array\n",
    "    '''\n",
    "    transform = transforms.Compose([transforms.Resize(256),\n",
    "                                         transforms.CenterCrop(224),\n",
    "                                         transforms.ToTensor(),\n",
    "                                         transforms.Normalize([0.5, 0.5, 0.5],\n",
    "                                                              [0.5, 0.5, 0.5])])\n",
    "    imgp = Image.open(image)\n",
    "    return transform(imgp)"
   ]
  },
  {
   "cell_type": "markdown",
   "metadata": {
    "id": "G4MmeI-X-Vr6"
   },
   "source": [
    "To check your work, the function below converts a PyTorch tensor and displays it in the notebook. If your `process_image` function works, running the output through this function should return the original image (except for the cropped out portions)."
   ]
  },
  {
   "cell_type": "code",
   "execution_count": null,
   "metadata": {
    "id": "zJvjIPr6-Vr6"
   },
   "outputs": [],
   "source": [
    "def imshow(tensor, ax=None, title=None):\n",
    "    \"\"\"Display a tensor as an image.\"\"\"\n",
    "    if ax is None:\n",
    "        fig, ax = plt.subplots()\n",
    "    \n",
    "    # Convert the tensor from (C, H, W) to (H, W, C) for matplotlib compatibility\n",
    "    image_array = tensor.numpy().transpose((1, 2, 0))\n",
    "    \n",
    "    # Revert normalization applied during preprocessing\n",
    "    mean_values = np.array([0.485, 0.456, 0.406])\n",
    "    std_values = np.array([0.229, 0.224, 0.225])\n",
    "    image_array = std_values * image_array + mean_values\n",
    "    \n",
    "    # Clip the image values to the range [0, 1] to avoid display issues\n",
    "    image_array = np.clip(image_array, 0, 1)\n",
    "    \n",
    "    ax.imshow(image_array)\n",
    "    \n",
    "    if title:\n",
    "        ax.set_title(title)\n",
    "    \n",
    "    return ax\n"
   ]
  },
  {
   "cell_type": "markdown",
   "metadata": {
    "id": "LAYXKBXW-Vr6"
   },
   "source": [
    "## Class Prediction\n",
    "\n",
    "Once you can get images in the correct format, it's time to write a function for making predictions with your model. A common practice is to predict the top 5 or so (usually called top-$K$) most probable classes. You'll want to calculate the class probabilities then find the $K$ largest values.\n",
    "\n",
    "To get the top $K$ largest values in a tensor use [`x.topk(k)`](http://pytorch.org/docs/master/torch.html#torch.topk). This method returns both the highest `k` probabilities and the indices of those probabilities corresponding to the classes. You need to convert from these indices to the actual class labels using `class_to_idx` which hopefully you added to the model or from an `ImageFolder` you used to load the data ([see here](#Save-the-checkpoint)). Make sure to invert the dictionary so you get a mapping from index to class as well.\n",
    "\n",
    "Again, this method should take a path to an image and a model checkpoint, then return the probabilities and classes.\n",
    "\n",
    "```python\n",
    "probs, classes = predict(image_path, model)\n",
    "print(probs)\n",
    "print(classes)\n",
    "> [ 0.01558163  0.01541934  0.01452626  0.01443549  0.01407339]\n",
    "> ['70', '3', '45', '62', '55']\n",
    "```"
   ]
  },
  {
   "cell_type": "code",
   "execution_count": null,
   "metadata": {
    "id": "KC9M2vQt-Vr6"
   },
   "outputs": [],
   "source": [
    "import torch\n",
    "import numpy as np\n",
    "\n",
    "def predict(image_path, model, topk=5):\n",
    "    ''' Make a prediction for an image using a trained deep learning model.\n",
    "\n",
    "    Args:\n",
    "        image_path (str): Path to the image file to be classified.\n",
    "        model (torch.nn.Module): The pre-trained model used for classification.\n",
    "        topk (int): Number of top predicted classes to return.\n",
    "\n",
    "    Returns:\n",
    "        top_probabilities (Tensor): Probabilities of the top predicted classes.\n",
    "        top_classes (Tensor): Indices of the top predicted classes.\n",
    "    '''\n",
    "    # Set the model to evaluation mode and use the appropriate device\n",
    "    device = torch.device('cuda' if torch.cuda.is_available() else 'cpu')\n",
    "    model.to(device)\n",
    "    model.eval()\n",
    "\n",
    "    # Prepare the image and convert it into a tensor for the model\n",
    "    processed_image = process_image(image_path)  # Ensure process_image is defined\n",
    "    processed_image = processed_image.unsqueeze(0)  # Add batch dimension\n",
    "    processed_image = processed_image.to(device, dtype=torch.float32)\n",
    "\n",
    "    # Get predictions from the model\n",
    "    with torch.no_grad():\n",
    "        log_probabilities = model(processed_image)\n",
    "\n",
    "    # Compute the actual probabilities and retrieve the topk predictions\n",
    "    probabilities = torch.exp(log_probabilities)\n",
    "    top_probabilities, top_class_indices = probabilities.topk(topk, dim=1)\n",
    "\n",
    "    return top_probabilities, top_class_indices\n"
   ]
  },
  {
   "cell_type": "markdown",
   "metadata": {
    "id": "2wXdBjeb-Vr7"
   },
   "source": [
    "## Sanity Checking\n",
    "\n",
    "Now that you can use a trained model for predictions, check to make sure it makes sense. Even if the testing accuracy is high, it's always good to check that there aren't obvious bugs. Use `matplotlib` to plot the probabilities for the top 5 classes as a bar graph, along with the input image. It should look like this:\n",
    "\n",
    "<img src='assets/inference_example.png' width=300px>\n",
    "\n",
    "You can convert from the class integer encoding to actual flower names with the `cat_to_name.json` file (should have been loaded earlier in the notebook). To show a PyTorch tensor as an image, use the `imshow` function defined above."
   ]
  },
  {
   "cell_type": "code",
   "execution_count": null,
   "metadata": {
    "colab": {
     "base_uri": "https://localhost:8080/"
    },
    "id": "d0iM8n3p-Vr7",
    "outputId": "568ffcd9-bd61-405f-cd07-0ce3b6d6d5e8"
   },
   "outputs": [],
   "source": [
    "# Display an image with its top 5 predicted classes\n",
    "image_file = test_dir + \"/100/image_07896.jpg\"\n",
    "probabilities, class_indices = make_prediction(image_file, model)\n",
    "\n",
    "# Print the predicted probabilities and corresponding class indices\n",
    "print(\"Predicted Probabilities:\", probabilities)\n",
    "print(\"Predicted Class Indices:\", class_indices)\n"
   ]
  },
  {
   "cell_type": "code",
   "execution_count": null,
   "metadata": {
    "colab": {
     "base_uri": "https://localhost:8080/",
     "height": 471
    },
    "id": "qlIkpRAR1oT8",
    "outputId": "a0a973c6-c2fe-47cd-f69a-ce3455394acf"
   },
   "outputs": [],
   "source": [
    "def display_prediction(image_file, model, topk=5, category_to_name=cat_to_name):\n",
    "    ''' Display the image and its topk predicted categories with their probabilities.\n",
    "\n",
    "    Args:\n",
    "        image_file (str): Path to the image you want to predict and show.\n",
    "        model (torch.nn.Module): Pre-trained deep learning model for prediction.\n",
    "        topk (int): Number of top categories to display with probabilities.\n",
    "\n",
    "    Returns:\n",
    "        None\n",
    "    '''\n",
    "    # Set up the figure with two subplots for image and bar chart\n",
    "    plt.rcdefaults()\n",
    "\n",
    "    fig, (axis1, axis2) = plt.subplots(1, 2, figsize=(10, 5))\n",
    "\n",
    "    # Get predictions and image\n",
    "    prediction_scores = predict(image_file, model, topk)\n",
    "    img = process_image(image_file)\n",
    "\n",
    "    # Show the image on the first subplot (axis1)\n",
    "    imshow(img, ax=axis1)\n",
    "    axis1.axis('off')\n",
    "    label_index = 1  # Set to the appropriate index based on prediction\n",
    "    axis1.set_title(category_to_name[str(label_index)])  # Set title to the predicted category name\n",
    "\n",
    "    # Prepare data for the bar chart on the second subplot (axis2)\n",
    "    probabilities = np.array(prediction_scores[0][0].cpu())\n",
    "    class_names = [category_to_name[str(label_index+1)] for label_index in np.array(prediction_scores[1][0].cpu())]\n",
    "\n",
    "    y_positions = np.arange(topk)\n",
    "    axis2.set_yticks(y_positions)\n",
    "    axis2.set_yticklabels(class_names)\n",
    "    axis2.set_xlabel('Probability')\n",
    "    axis2.invert_yaxis()\n",
    "    axis2.barh(y_positions, probabilities)\n",
    "\n",
    "    # Display the plot\n",
    "    plt.show()\n",
    "\n",
    "# Call the function with the image path and model\n",
    "show_prediction(image_file=image_path, model=model)\n"
   ]
  },
  {
   "cell_type": "markdown",
   "metadata": {
    "id": "5UwuqwBH-Vr7"
   },
   "source": [
    "## Reminder for Workspace users\n",
    "If your network becomes very large when saved as a checkpoint, there might be issues with saving backups in your workspace. You should reduce the size of your hidden layers and train again.\n",
    "    \n",
    "We strongly encourage you to delete these large interim files and directories before navigating to another page or closing the browser tab."
   ]
  },
  {
   "cell_type": "code",
   "execution_count": null,
   "metadata": {
    "colab": {
     "base_uri": "https://localhost:8080/"
    },
    "id": "FCdCxss5-Vr8",
    "outputId": "6488ddf4-b80f-46b2-b11b-fa8ecd35ff7d"
   },
   "outputs": [
    {
     "name": "stdout",
     "output_type": "stream",
     "text": [
      "checkpoint_model.pth has been deleted.\n"
     ]
    }
   ],
   "source": [
    "import os\n",
    "\n",
    "# Define the path to the .pth file\n",
    "model_path = filepath  # Assign the file path you wish to check\n",
    "\n",
    "# Check if the file exists\n",
    "if os.path.isfile(model_path):\n",
    "    try:\n",
    "        # Attempt to remove the file\n",
    "        os.remove(model_path)\n",
    "        print(f\"The file at {model_path} has been successfully deleted.\")\n",
    "    except OSError as error:\n",
    "        print(f\"An error occurred: {error}\")\n",
    "else:\n",
    "    print(f\"File {model_path} was not found.\")\n"
   ]
  }
 ],
 "metadata": {
  "accelerator": "GPU",
  "colab": {
   "gpuType": "T4",
   "provenance": []
  },
  "kernelspec": {
   "display_name": "Python 3",
   "name": "python3"
  },
  "language_info": {
   "codemirror_mode": {
    "name": "ipython",
    "version": 3
   },
   "file_extension": ".py",
   "mimetype": "text/x-python",
   "name": "python",
   "nbconvert_exporter": "python",
   "pygments_lexer": "ipython3",
   "version": "3.11.9"
  }
 },
 "nbformat": 4,
 "nbformat_minor": 0
}
